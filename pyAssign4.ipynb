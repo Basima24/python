{
 "cells": [
  {
   "cell_type": "code",
   "execution_count": 13,
   "id": "5614f05b-cbe6-4634-ae60-344e67dcba11",
   "metadata": {},
   "outputs": [
    {
     "name": "stdout",
     "output_type": "stream",
     "text": [
      "The sum of 'a' and 'b' is 22\n"
     ]
    }
   ],
   "source": [
    "# Exercise 1: Function with optional arguments\n",
    "def calculation(a, b = 10, c = None):\n",
    "    if c == None:\n",
    "        print(\"The sum of 'a' and 'b' is\",a + b)\n",
    "    else:\n",
    "        print(\"The product of 'a,b,c' is:\",a * b * c)\n",
    "\n",
    "calculation(12)\n"
   ]
  },
  {
   "cell_type": "code",
   "execution_count": 7,
   "id": "70e1d36e-9038-4ea4-bb48-9af61a366023",
   "metadata": {},
   "outputs": [
    {
     "name": "stdout",
     "output_type": "stream",
     "text": [
      "The sum of 'a' and 'b' is 25\n"
     ]
    }
   ],
   "source": [
    "calculation(12,13)"
   ]
  },
  {
   "cell_type": "code",
   "execution_count": 11,
   "id": "42457c4c-bcb3-42d7-9b9f-9b4db873449c",
   "metadata": {},
   "outputs": [
    {
     "name": "stdout",
     "output_type": "stream",
     "text": [
      "1200\n"
     ]
    }
   ],
   "source": [
    "calculation(12,10,10)\n"
   ]
  },
  {
   "cell_type": "code",
   "execution_count": 15,
   "id": "c87d2132-d55e-41c3-85b6-d440efa0481a",
   "metadata": {},
   "outputs": [
    {
     "name": "stdout",
     "output_type": "stream",
     "text": [
      "The product of 'a,b,c' 6\n"
     ]
    }
   ],
   "source": [
    "calculation(1,2,3)"
   ]
  },
  {
   "cell_type": "code",
   "execution_count": 17,
   "id": "e5f13671-8737-4888-a9a6-67280cc53bff",
   "metadata": {},
   "outputs": [
    {
     "name": "stdout",
     "output_type": "stream",
     "text": [
      "The product of 'a,b,c' 1000\n"
     ]
    }
   ],
   "source": [
    "calculation(10,10,10)\n"
   ]
  },
  {
   "cell_type": "code",
   "execution_count": 19,
   "id": "067e9b2a-0593-492f-ad93-6f77a960df76",
   "metadata": {},
   "outputs": [
    {
     "name": "stdout",
     "output_type": "stream",
     "text": [
      "['Basima', 'trying to', 'learn programming', 'python']\n"
     ]
    }
   ],
   "source": [
    "\n",
    "# Exercise 2: Return strings with length >= 5\n",
    "def filter_long_strings(string_list):\n",
    "    return [string for string in string_list if len(string) >= 5]\n",
    "\n",
    "sample_strings = [\"I\", \"am\", \"Basima\", \"trying to\", \"learn programming\", \"python\"]\n",
    "print(filter_long_strings(sample_strings))\n",
    "\n"
   ]
  },
  {
   "cell_type": "code",
   "execution_count": 31,
   "id": "09d89810-669e-4e5c-9251-53aeea829502",
   "metadata": {},
   "outputs": [
    {
     "name": "stdout",
     "output_type": "stream",
     "text": [
      "Sample Expression Evaluation\n",
      "Expression :3 * 5 + 2\n",
      "Result of Evaluating the given expression:3 * 5 + 2 is 17\n"
     ]
    }
   ],
   "source": [
    "# Exercise 3: Evaluate expression using eval()\n",
    "def evaluate_expression(expression):\n",
    "    return eval(expression)\n",
    "print(\"Sample Expression Evaluation\")\n",
    "expression = \"3 * 5 + 2\"\n",
    "print(f\"Expression :{expression}\")\n",
    "print(f\"Result of Evaluating the given expression:{expression} is {evaluate_expression(expression)}\")\n",
    "\n"
   ]
  },
  {
   "cell_type": "code",
   "execution_count": 33,
   "id": "bcd48de3-7ae2-415f-afc0-41ae41e5a2f8",
   "metadata": {},
   "outputs": [
    {
     "name": "stdout",
     "output_type": "stream",
     "text": [
      "[2, 3, 5, 7, 11, 13, 17, 19]\n"
     ]
    }
   ],
   "source": [
    "# Exercise 4: Filter prime numbers\n",
    "def is_prime(num):\n",
    "    if num <= 1:\n",
    "        return False\n",
    "    if num <= 3:\n",
    "        return True\n",
    "    if num % 2 == 0 or num % 3 == 0:\n",
    "        return False\n",
    "    i = 5\n",
    "    while i * i <= num:\n",
    "        if num % i == 0 or num % (i + 2) == 0:\n",
    "            return False\n",
    "        i += 6\n",
    "    return True\n",
    "\n",
    "def filter_primes(numbers):\n",
    "    return list(filter(is_prime, numbers))\n",
    "    \n",
    "test = [1, 2, 3, 4, 5, 6, 7, 8, 9, 10, 11, 12, 13,14,15,16,17,18,19]\n",
    "print(filter_primes(test))  \n"
   ]
  },
  {
   "cell_type": "code",
   "execution_count": 37,
   "id": "712dc770-4bf9-48fa-a6e4-d4f6dcbfc0dc",
   "metadata": {},
   "outputs": [
    {
     "name": "stdout",
     "output_type": "stream",
     "text": [
      "['REHAN', 'IZA', 'HIBA', 'RUMU']\n"
     ]
    }
   ],
   "source": [
    "# Exercise 5: Convert strings to uppercase using map()\n",
    "def convert_to_uppercase(string_list):\n",
    "    return list(map(str.upper, string_list))\n",
    "\n",
    "# sample output\n",
    "test_strings = [\"rehan\", \"iza\", \"hiba\", \"rumu\"]\n",
    "print(convert_to_uppercase(test_strings))\n"
   ]
  },
  {
   "cell_type": "code",
   "execution_count": null,
   "id": "23f4c57d-2af9-4e5c-8138-bf3e218ae83d",
   "metadata": {},
   "outputs": [],
   "source": []
  }
 ],
 "metadata": {
  "kernelspec": {
   "display_name": "Python [conda env:base] *",
   "language": "python",
   "name": "conda-base-py"
  },
  "language_info": {
   "codemirror_mode": {
    "name": "ipython",
    "version": 3
   },
   "file_extension": ".py",
   "mimetype": "text/x-python",
   "name": "python",
   "nbconvert_exporter": "python",
   "pygments_lexer": "ipython3",
   "version": "3.12.7"
  }
 },
 "nbformat": 4,
 "nbformat_minor": 5
}
