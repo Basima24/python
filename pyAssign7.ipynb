{
 "cells": [
  {
   "cell_type": "code",
   "execution_count": 1,
   "id": "d9f31c84-80fc-4532-abed-694543797ae0",
   "metadata": {},
   "outputs": [],
   "source": [
    "import numpy as np\n",
    "import pandas as pd\n"
   ]
  },
  {
   "cell_type": "code",
   "execution_count": 3,
   "id": "c1e9407a-2eeb-4f72-abac-091e00369687",
   "metadata": {},
   "outputs": [
    {
     "name": "stdout",
     "output_type": "stream",
     "text": [
      "the numpy array containing numbers from 1 to 10 is \n",
      "  [ 1  2  3  4  5  6  7  8  9 10]\n",
      "the reshaped 2x5 matrix is \n",
      " [[ 1  2  3  4  5]\n",
      " [ 6  7  8  9 10]]\n"
     ]
    }
   ],
   "source": [
    "# Exercise 1: (Score : 1) Create a numpy array containing the numbers from 1 to 10, and then reshape it to a 2x5 matrix. \n",
    "arr=np.array([1,2,3,4,5,6,7,8,9,10])\n",
    "reshaped_arr=arr.reshape(2,5)\n",
    "print(\"the numpy array containing numbers from 1 to 10 is \\n \",arr)\n",
    "print(\"the reshaped 2x5 matrix is \\n\",reshaped_arr)\n"
   ]
  },
  {
   "cell_type": "code",
   "execution_count": 5,
   "id": "8a977d63-f865-4cca-8bdb-e82cad614857",
   "metadata": {},
   "outputs": [
    {
     "name": "stdout",
     "output_type": "stream",
     "text": [
      "the array is\t  [ 1  2  3  4  5  6  7  8  9 10 11 12 13 14 15 16 17 18 19 20]\n",
      "\n",
      "the extracted elements between 5thand 15th index\t [ 6  7  8  9 10 11 12 13 14 15]\n"
     ]
    }
   ],
   "source": [
    "# Exercise 2: (Score : 1) Create a numpy array containing the numbers from 1 to 20, and then extract the elements between the 5th and 15th index. \n",
    "arr1=np.arange(1,21)\n",
    "print(\"the array is\\t \",arr1)\n",
    "sliced_arr1=arr1[5:15]\n",
    "print(\"\\nthe extracted elements between 5thand 15th index\\t\",sliced_arr1)\n"
   ]
  },
  {
   "cell_type": "code",
   "execution_count": 7,
   "id": "bac07a65-4c0b-481c-a6a8-6081916ba43e",
   "metadata": {},
   "outputs": [
    {
     "name": "stdout",
     "output_type": "stream",
     "text": [
      "panda series\n",
      " apples     3\n",
      "bananas    2\n",
      "oranges    1\n",
      "dtype: int64\n",
      "\n",
      "panda series after updation\n",
      " apples     3\n",
      "bananas    2\n",
      "oranges    1\n",
      "pears      4\n",
      "dtype: int64\n"
     ]
    }
   ],
   "source": [
    "#Exercise 3: (Score : 2) Create a Pandas series with the following data:\n",
    "#{'apples': 3, 'bananas': 2, 'oranges': 1}. Then, add a new item to the series with the key 'pears' and the value 4.\n",
    "s=pd.Series({'apples': 3, 'bananas': 2, 'oranges': 1})\n",
    "print(\"panda series\\n\",s)\n",
    "s['pears']=4\n",
    "print(\"\\npanda series after updation\\n\",s)\n"
   ]
  },
  {
   "cell_type": "code",
   "execution_count": 9,
   "id": "739c4ae9-5d59-40a8-bffa-68cfa45982f7",
   "metadata": {},
   "outputs": [
    {
     "name": "stdout",
     "output_type": "stream",
     "text": [
      "      Name  Age  Gender\n",
      "0       Jo   28    Male\n",
      "1   Jithin   27    Male\n",
      "2     Ravi   29    Male\n",
      "3   Vishnu   28    Male\n",
      "4      Ali   42    Male\n",
      "5     Hina   37  Female\n",
      "6  Deepthi   38  Female\n",
      "7    Alina   27  Female\n",
      "8   Bassim   34    Male\n",
      "9    Deljo   36    Male\n"
     ]
    }
   ],
   "source": [
    "#Exercise 4: (Score : 2) Create a dataframe with the following columns: name, age, and gender. The dataframe should have 10 rows of data.\n",
    "data={\n",
    "    'Name':['Jo','Jithin','Ravi','Vishnu','Ali','Hina','Deepthi','Alina','Bassim','Deljo'],\n",
    "    'Age':[28,27,29,28,42,37,38,27,34,36],\n",
    "    'Gender':['Male','Male','Male','Male','Male','Female','Female','Female','Male','Male']\n",
    "}\n",
    "df=pd.DataFrame(data)\n",
    "print(df)\n"
   ]
  },
  {
   "cell_type": "code",
   "execution_count": 11,
   "id": "5ca35048-f697-4a10-9eab-4b4e35d6b0ae",
   "metadata": {},
   "outputs": [
    {
     "data": {
      "text/html": [
       "<div>\n",
       "<style scoped>\n",
       "    .dataframe tbody tr th:only-of-type {\n",
       "        vertical-align: middle;\n",
       "    }\n",
       "\n",
       "    .dataframe tbody tr th {\n",
       "        vertical-align: top;\n",
       "    }\n",
       "\n",
       "    .dataframe thead th {\n",
       "        text-align: right;\n",
       "    }\n",
       "</style>\n",
       "<table border=\"1\" class=\"dataframe\">\n",
       "  <thead>\n",
       "    <tr style=\"text-align: right;\">\n",
       "      <th></th>\n",
       "      <th>Name</th>\n",
       "      <th>Age</th>\n",
       "      <th>Gender</th>\n",
       "      <th>Occupation</th>\n",
       "    </tr>\n",
       "  </thead>\n",
       "  <tbody>\n",
       "    <tr>\n",
       "      <th>0</th>\n",
       "      <td>Jo</td>\n",
       "      <td>28</td>\n",
       "      <td>Male</td>\n",
       "      <td>Programmer</td>\n",
       "    </tr>\n",
       "    <tr>\n",
       "      <th>1</th>\n",
       "      <td>Jithin</td>\n",
       "      <td>27</td>\n",
       "      <td>Male</td>\n",
       "      <td>Manager</td>\n",
       "    </tr>\n",
       "    <tr>\n",
       "      <th>2</th>\n",
       "      <td>Ravi</td>\n",
       "      <td>29</td>\n",
       "      <td>Male</td>\n",
       "      <td>Analyst</td>\n",
       "    </tr>\n",
       "    <tr>\n",
       "      <th>3</th>\n",
       "      <td>Vishnu</td>\n",
       "      <td>28</td>\n",
       "      <td>Male</td>\n",
       "      <td>Programmer</td>\n",
       "    </tr>\n",
       "    <tr>\n",
       "      <th>4</th>\n",
       "      <td>Ali</td>\n",
       "      <td>42</td>\n",
       "      <td>Male</td>\n",
       "      <td>Manager</td>\n",
       "    </tr>\n",
       "    <tr>\n",
       "      <th>5</th>\n",
       "      <td>Hina</td>\n",
       "      <td>37</td>\n",
       "      <td>Female</td>\n",
       "      <td>Analyst</td>\n",
       "    </tr>\n",
       "    <tr>\n",
       "      <th>6</th>\n",
       "      <td>Deepthi</td>\n",
       "      <td>38</td>\n",
       "      <td>Female</td>\n",
       "      <td>Programmer</td>\n",
       "    </tr>\n",
       "    <tr>\n",
       "      <th>7</th>\n",
       "      <td>Alina</td>\n",
       "      <td>27</td>\n",
       "      <td>Female</td>\n",
       "      <td>Manager</td>\n",
       "    </tr>\n",
       "    <tr>\n",
       "      <th>8</th>\n",
       "      <td>Bassim</td>\n",
       "      <td>34</td>\n",
       "      <td>Male</td>\n",
       "      <td>Analyst</td>\n",
       "    </tr>\n",
       "    <tr>\n",
       "      <th>9</th>\n",
       "      <td>Deljo</td>\n",
       "      <td>36</td>\n",
       "      <td>Male</td>\n",
       "      <td>Programmer</td>\n",
       "    </tr>\n",
       "  </tbody>\n",
       "</table>\n",
       "</div>"
      ],
      "text/plain": [
       "      Name  Age  Gender  Occupation\n",
       "0       Jo   28    Male  Programmer\n",
       "1   Jithin   27    Male     Manager\n",
       "2     Ravi   29    Male     Analyst\n",
       "3   Vishnu   28    Male  Programmer\n",
       "4      Ali   42    Male     Manager\n",
       "5     Hina   37  Female     Analyst\n",
       "6  Deepthi   38  Female  Programmer\n",
       "7    Alina   27  Female     Manager\n",
       "8   Bassim   34    Male     Analyst\n",
       "9    Deljo   36    Male  Programmer"
      ]
     },
     "execution_count": 11,
     "metadata": {},
     "output_type": "execute_result"
    }
   ],
   "source": [
    "# Exercise 5: (Score : 1) Add a new column to the data frame created in question 1, called occupation. \n",
    "#The values for this column should be Programmer, Manager, and Analyst, corresponding to the rows in the dataframe.\n",
    "\n",
    "df['Occupation']=['Programmer',' Manager', 'Analyst','Programmer',' Manager','Analyst','Programmer', 'Manager', 'Analyst','Programmer']\n",
    "df\n"
   ]
  },
  {
   "cell_type": "code",
   "execution_count": 13,
   "id": "7db17582-46f7-4a44-a155-0a3e3ceb85f4",
   "metadata": {},
   "outputs": [
    {
     "data": {
      "text/html": [
       "<div>\n",
       "<style scoped>\n",
       "    .dataframe tbody tr th:only-of-type {\n",
       "        vertical-align: middle;\n",
       "    }\n",
       "\n",
       "    .dataframe tbody tr th {\n",
       "        vertical-align: top;\n",
       "    }\n",
       "\n",
       "    .dataframe thead th {\n",
       "        text-align: right;\n",
       "    }\n",
       "</style>\n",
       "<table border=\"1\" class=\"dataframe\">\n",
       "  <thead>\n",
       "    <tr style=\"text-align: right;\">\n",
       "      <th></th>\n",
       "      <th>Name</th>\n",
       "      <th>Age</th>\n",
       "      <th>Gender</th>\n",
       "      <th>Occupation</th>\n",
       "    </tr>\n",
       "  </thead>\n",
       "  <tbody>\n",
       "    <tr>\n",
       "      <th>4</th>\n",
       "      <td>Ali</td>\n",
       "      <td>42</td>\n",
       "      <td>Male</td>\n",
       "      <td>Manager</td>\n",
       "    </tr>\n",
       "    <tr>\n",
       "      <th>5</th>\n",
       "      <td>Hina</td>\n",
       "      <td>37</td>\n",
       "      <td>Female</td>\n",
       "      <td>Analyst</td>\n",
       "    </tr>\n",
       "    <tr>\n",
       "      <th>6</th>\n",
       "      <td>Deepthi</td>\n",
       "      <td>38</td>\n",
       "      <td>Female</td>\n",
       "      <td>Programmer</td>\n",
       "    </tr>\n",
       "    <tr>\n",
       "      <th>8</th>\n",
       "      <td>Bassim</td>\n",
       "      <td>34</td>\n",
       "      <td>Male</td>\n",
       "      <td>Analyst</td>\n",
       "    </tr>\n",
       "    <tr>\n",
       "      <th>9</th>\n",
       "      <td>Deljo</td>\n",
       "      <td>36</td>\n",
       "      <td>Male</td>\n",
       "      <td>Programmer</td>\n",
       "    </tr>\n",
       "  </tbody>\n",
       "</table>\n",
       "</div>"
      ],
      "text/plain": [
       "      Name  Age  Gender  Occupation\n",
       "4      Ali   42    Male     Manager\n",
       "5     Hina   37  Female     Analyst\n",
       "6  Deepthi   38  Female  Programmer\n",
       "8   Bassim   34    Male     Analyst\n",
       "9    Deljo   36    Male  Programmer"
      ]
     },
     "execution_count": 13,
     "metadata": {},
     "output_type": "execute_result"
    }
   ],
   "source": [
    "#Exercise 6: (Score : 1) Select the rows of the dataframe where the age is greater than or equal to 30.\n",
    "age_above30=df[df['Age']>=30]\n",
    "\n",
    "age_above30\n"
   ]
  },
  {
   "cell_type": "code",
   "execution_count": 15,
   "id": "9dd0f5a9-3263-464c-85dd-2dc686068d21",
   "metadata": {},
   "outputs": [],
   "source": [
    "#Exercise 7: (Score : 2) Convert this dataframe to a csv file and read that csv file, finally display the contents.\n",
    "df.to_csv('employee.csv',index=False)\n"
   ]
  },
  {
   "cell_type": "code",
   "execution_count": 17,
   "id": "c4b7e1cc-e9f2-4fd6-9506-debcd053d2c5",
   "metadata": {},
   "outputs": [
    {
     "name": "stdout",
     "output_type": "stream",
     "text": [
      "      Name  Age  Gender  Occupation\n",
      "0       Jo   28    Male  Programmer\n",
      "1   Jithin   27    Male     Manager\n",
      "2     Ravi   29    Male     Analyst\n",
      "3   Vishnu   28    Male  Programmer\n",
      "4      Ali   42    Male     Manager\n",
      "5     Hina   37  Female     Analyst\n",
      "6  Deepthi   38  Female  Programmer\n",
      "7    Alina   27  Female     Manager\n",
      "8   Bassim   34    Male     Analyst\n",
      "9    Deljo   36    Male  Programmer\n"
     ]
    }
   ],
   "source": [
    "df_from_csv=pd.read_csv('employee.csv')\n",
    "\n",
    "print(df_from_csv)\n"
   ]
  },
  {
   "cell_type": "code",
   "execution_count": null,
   "id": "07489bc4-ea31-4fb1-aa1e-a125889dba89",
   "metadata": {},
   "outputs": [],
   "source": []
  }
 ],
 "metadata": {
  "kernelspec": {
   "display_name": "Python [conda env:base] *",
   "language": "python",
   "name": "conda-base-py"
  },
  "language_info": {
   "codemirror_mode": {
    "name": "ipython",
    "version": 3
   },
   "file_extension": ".py",
   "mimetype": "text/x-python",
   "name": "python",
   "nbconvert_exporter": "python",
   "pygments_lexer": "ipython3",
   "version": "3.12.7"
  }
 },
 "nbformat": 4,
 "nbformat_minor": 5
}
