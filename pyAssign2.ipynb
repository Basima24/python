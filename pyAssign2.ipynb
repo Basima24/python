{
 "cells": [
  {
   "cell_type": "code",
   "execution_count": 1,
   "id": "01cd3452-b772-44d7-b830-aa54456dba83",
   "metadata": {},
   "outputs": [
    {
     "name": "stdout",
     "output_type": "stream",
     "text": [
      "--- List Exercises ---\n"
     ]
    }
   ],
   "source": [
    "# List Exercises\n",
    "print(\"--- List Exercises ---\")\n"
   ]
  },
  {
   "cell_type": "code",
   "execution_count": 5,
   "id": "ecd92f1f-6a8c-49af-b6ea-663df5dbb702",
   "metadata": {},
   "outputs": [
    {
     "name": "stdout",
     "output_type": "stream",
     "text": [
      "Random list is: [42, 17, 33, 8, 91]\n"
     ]
    }
   ],
   "source": [
    "# Q1: Create a list of 5 random numbers\n",
    "num = [42, 17, 33, 8, 91]\n",
    "print(\"Random list\", num)\n"
   ]
  },
  {
   "cell_type": "code",
   "execution_count": 8,
   "id": "d076a0cc-a588-429a-838a-b556f0267cce",
   "metadata": {},
   "outputs": [
    {
     "name": "stdout",
     "output_type": "stream",
     "text": [
      "Updated list after insertions: [10, 42, 17, 33, 50, 8, 91, 23]\n"
     ]
    }
   ],
   "source": [
    "# Q2: Insert 3 new values\n",
    "# Adds to end\n",
    "num.append(23)\n",
    "\n",
    "# Adds to beginning\n",
    "num.insert(0,10)  \n",
    "\n",
    "# Adds at index 4\n",
    "num.insert(4,50)\n",
    "\n",
    "print(\"Updated list after insertions:\", num)\n"
   ]
  },
  {
   "cell_type": "code",
   "execution_count": 16,
   "id": "0515f4bb-b6a6-4929-a8ac-1a82dbb9ce22",
   "metadata": {},
   "outputs": [
    {
     "name": "stdout",
     "output_type": "stream",
     "text": [
      "10\n",
      "42\n",
      "17\n",
      "33\n",
      "50\n",
      "8\n",
      "91\n",
      "23\n"
     ]
    }
   ],
   "source": [
    "# Q3: Print each element in the List using for loop\n",
    "num=[10, 42, 17, 33, 50, 8, 91, 23]\n",
    "for i in num:\n",
    "    print(i)\n",
    "    "
   ]
  },
  {
   "cell_type": "code",
   "execution_count": 18,
   "id": "d7361e89-8391-4132-98fd-dc132ef55b32",
   "metadata": {},
   "outputs": [
    {
     "name": "stdout",
     "output_type": "stream",
     "text": [
      "\n",
      "--- Dictionary Exercises ---\n"
     ]
    }
   ],
   "source": [
    "# Dictionary Exercises\n",
    "print(\"\\n--- Dictionary Exercises ---\")\n"
   ]
  },
  {
   "cell_type": "code",
   "execution_count": 20,
   "id": "f0a6d487-9765-44e9-b47c-c48345d30709",
   "metadata": {},
   "outputs": [
    {
     "name": "stdout",
     "output_type": "stream",
     "text": [
      "Personal details dictionary: {'name': 'John', 'age': 25, 'address': 'New York'}\n"
     ]
    }
   ],
   "source": [
    "# Q1: Create a dictionary with name, age, address\n",
    "person = {\n",
    "    'name': 'John',\n",
    "    'age': 25,\n",
    "    'address': 'New York'\n",
    "}\n",
    "print(\"Personal details dictionary:\", person)\n",
    "\n"
   ]
  },
  {
   "cell_type": "code",
   "execution_count": 22,
   "id": "ff8e9eba-20de-4018-a263-4c7a02e27fce",
   "metadata": {},
   "outputs": [
    {
     "name": "stdout",
     "output_type": "stream",
     "text": [
      "Updated dictionary: {'name': 'John', 'age': 25, 'address': 'New York', 'phone_no': '9947483443'}\n"
     ]
    }
   ],
   "source": [
    "# Q2: Add phone number\n",
    "person['phone_no'] = '9947483443'\n",
    "print(\"Updated dictionary:\", person)\n"
   ]
  },
  {
   "cell_type": "code",
   "execution_count": 24,
   "id": "47c19862-1fa8-4f49-8ee4-b36496d0f050",
   "metadata": {},
   "outputs": [
    {
     "name": "stdout",
     "output_type": "stream",
     "text": [
      "\n",
      "--- Set Exercises ---\n"
     ]
    }
   ],
   "source": [
    "# Set Exercises\n",
    "print(\"\\n--- Set Exercises ---\")\n"
   ]
  },
  {
   "cell_type": "code",
   "execution_count": 26,
   "id": "e05d9150-a3e8-4dc2-8ac7-984ae2d497fc",
   "metadata": {},
   "outputs": [],
   "source": [
    "# Q1: Create a set\n",
    "my_set={1,2,3,4,5}\n"
   ]
  },
  {
   "cell_type": "code",
   "execution_count": 30,
   "id": "719a20d1-a38d-4f33-a281-6814adac5e40",
   "metadata": {},
   "outputs": [
    {
     "name": "stdout",
     "output_type": "stream",
     "text": [
      "My new set is: {1, 2, 3, 4, 5}\n"
     ]
    }
   ],
   "source": [
    "print(\"My new set is:\",my_set)\n"
   ]
  },
  {
   "cell_type": "code",
   "execution_count": 34,
   "id": "321a6dbd-2560-409e-9682-6e2a42da1c43",
   "metadata": {},
   "outputs": [
    {
     "name": "stdout",
     "output_type": "stream",
     "text": [
      "The updated set after adding '6' is: {1, 2, 3, 4, 5, 6}\n"
     ]
    }
   ],
   "source": [
    "# Q2: Add value 6 to set in Q1\n",
    "my_set.add(6)\n",
    "print(\"The updated set after adding \\'6\\' is:\",my_set)\n",
    "\n"
   ]
  },
  {
   "cell_type": "code",
   "execution_count": 38,
   "id": "d2632c09-fa97-42ff-a271-13654bb21eb7",
   "metadata": {},
   "outputs": [
    {
     "name": "stdout",
     "output_type": "stream",
     "text": [
      "The set after removing '3' is: {1, 2, 4, 5, 6}\n"
     ]
    }
   ],
   "source": [
    "# Q2: Remove value 3 from set in Q1\n",
    "my_set.remove(3)\n",
    "print(\"The set after removing \\'3\\' is:\",my_set)\n"
   ]
  },
  {
   "cell_type": "code",
   "execution_count": 46,
   "id": "817a182a-4224-44f6-863b-e8f4d0afc988",
   "metadata": {},
   "outputs": [
    {
     "name": "stdout",
     "output_type": "stream",
     "text": [
      "\n",
      "--- Tuple Exercises ---\n",
      "My First Tuple: (1, 2, 3, 4)\n",
      "The length of my tuple is 4\n"
     ]
    }
   ],
   "source": [
    "# Tuple Exercises\n",
    "print(\"\\n--- Tuple Exercises ---\")\n",
    "\n",
    "# Q1: Create a tuple\n",
    "my_tuple = (1, 2, 3, 4)\n",
    "print(\"My First Tuple:\", my_tuple)\n",
    "\n",
    "# Q2: Finding the length of the tuple\n",
    "x=len(my_tuple)\n",
    "print(\"The length of my tuple is\",x)\n",
    "\n"
   ]
  },
  {
   "cell_type": "code",
   "execution_count": null,
   "id": "455a85fa-5bcc-4750-a309-7cacbf94647a",
   "metadata": {},
   "outputs": [],
   "source": []
  }
 ],
 "metadata": {
  "kernelspec": {
   "display_name": "Python [conda env:base] *",
   "language": "python",
   "name": "conda-base-py"
  },
  "language_info": {
   "codemirror_mode": {
    "name": "ipython",
    "version": 3
   },
   "file_extension": ".py",
   "mimetype": "text/x-python",
   "name": "python",
   "nbconvert_exporter": "python",
   "pygments_lexer": "ipython3",
   "version": "3.12.7"
  }
 },
 "nbformat": 4,
 "nbformat_minor": 5
}
