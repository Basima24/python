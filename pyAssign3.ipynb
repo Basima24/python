{
 "cells": [
  {
   "cell_type": "code",
   "execution_count": 13,
   "id": "a8e23c4a-507e-4bbb-a83e-e033e859328f",
   "metadata": {},
   "outputs": [],
   "source": [
    "# Exercise 1: Month Names\n",
    "def get_month_name():\n",
    "    month = int(input(\"Enter the month: \"))\n",
    "    months = {\n",
    "        1: \"January\", 2: \"February\", 3: \"March\", 4: \"April\",\n",
    "        5: \"May\", 6: \"June\", 7: \"July\", 8: \"August\",\n",
    "        9: \"September\", 10: \"October\", 11: \"November\", 12: \"December\"\n",
    "    }\n",
    "    if 1 <= month <= 12:\n",
    "        print(f\"Month {month} is {months[month]}\")\n",
    "    else:\n",
    "        print(\"Invalid month number\")\n",
    "        "
   ]
  },
  {
   "cell_type": "code",
   "execution_count": 15,
   "id": "a51add2f-f0f3-4134-b88a-ba45e63c63d9",
   "metadata": {},
   "outputs": [
    {
     "name": "stdin",
     "output_type": "stream",
     "text": [
      "Enter the month:  2\n"
     ]
    },
    {
     "name": "stdout",
     "output_type": "stream",
     "text": [
      "Month 2 is February\n"
     ]
    }
   ],
   "source": [
    "get_month_name()"
   ]
  },
  {
   "cell_type": "code",
   "execution_count": 23,
   "id": "57bdedfc-8588-45cb-ae62-48bf8331adc5",
   "metadata": {},
   "outputs": [],
   "source": [
    "# Exercise 2: Cinema Tickets\n",
    "def calculate_ticket_price():\n",
    "    age = int(input(\"Enter your age: \"))\n",
    "    full_price = 6\n",
    "    \n",
    "    if age < 16:\n",
    "        price = full_price / 2\n",
    "    elif age >= 60:\n",
    "        price = full_price / 3\n",
    "    else:\n",
    "        price = full_price\n",
    "    \n",
    "    print(f\"Your ticket costs £{price:.2f}\")"
   ]
  },
  {
   "cell_type": "code",
   "execution_count": 25,
   "id": "829d6f63-4b86-4892-982d-649cf669aaa6",
   "metadata": {},
   "outputs": [
    {
     "name": "stdin",
     "output_type": "stream",
     "text": [
      "Enter your age:  12\n"
     ]
    },
    {
     "name": "stdout",
     "output_type": "stream",
     "text": [
      "Your ticket costs £3.00\n"
     ]
    }
   ],
   "source": [
    "calculate_ticket_price()\n"
   ]
  },
  {
   "cell_type": "code",
   "execution_count": 27,
   "id": "e5b404e1-0882-49a8-a6af-3e77a77c52e1",
   "metadata": {},
   "outputs": [],
   "source": [
    "# Exercise 3: calculating BMI\n",
    "\"\"\" \n",
    "Underweight: BMI < 18.5\n",
    "Normal weight: 18.5 ≤ BMI < 24.9\n",
    "Overweight: 25 ≤ BMI < 29.9\n",
    "Obese: BMI > 30\n",
    "\"\"\"\n",
    "def calculate_bmi():\n",
    "    weight = float(input(\"Enter your weight in (kg): \"))\n",
    "    height = float(input(\"Enter your height in (m): \"))\n",
    "    \n",
    "    bmi = weight / (height ** 2)\n",
    "    \n",
    "    if bmi < 18.5:\n",
    "        category = \"underweight\"\n",
    "    elif bmi < 25:\n",
    "        category = \"normal\"\n",
    "    elif bmi < 30:\n",
    "        category = \"overweight\"\n",
    "    else:\n",
    "        category = \"obese\"\n",
    "    \n",
    "    print(f\"Your BMI is: {bmi:.2f}\")\n",
    "    print(f'You are in the \"{category}\" range.')"
   ]
  },
  {
   "cell_type": "code",
   "execution_count": 29,
   "id": "9ed8d55c-96c4-4bed-bf9b-baf5bfb4629c",
   "metadata": {},
   "outputs": [
    {
     "name": "stdin",
     "output_type": "stream",
     "text": [
      "Enter your weight in (kg):  82\n",
      "Enter your height in (m):  1.62\n"
     ]
    },
    {
     "name": "stdout",
     "output_type": "stream",
     "text": [
      "Your BMI is: 31.25\n",
      "You are in the \"obese\" range.\n"
     ]
    }
   ],
   "source": [
    "calculate_bmi()"
   ]
  },
  {
   "cell_type": "code",
   "execution_count": 31,
   "id": "1cbcbacb-8844-4391-901f-43df7ebf38c2",
   "metadata": {},
   "outputs": [
    {
     "name": "stdin",
     "output_type": "stream",
     "text": [
      "Enter your weight in (kg):  45\n",
      "Enter your height in (m):  1.58\n"
     ]
    },
    {
     "name": "stdout",
     "output_type": "stream",
     "text": [
      "Your BMI is: 18.03\n",
      "You are in the \"underweight\" range.\n"
     ]
    }
   ],
   "source": [
    "calculate_bmi()"
   ]
  },
  {
   "cell_type": "code",
   "execution_count": 33,
   "id": "5bce421a-31aa-4e4a-881b-386adacff191",
   "metadata": {},
   "outputs": [
    {
     "name": "stdin",
     "output_type": "stream",
     "text": [
      "Enter your weight in (kg):  62\n",
      "Enter your height in (m):  1.72\n"
     ]
    },
    {
     "name": "stdout",
     "output_type": "stream",
     "text": [
      "Your BMI is: 20.96\n",
      "You are in the \"normal\" range.\n"
     ]
    }
   ],
   "source": [
    "calculate_bmi()\n"
   ]
  },
  {
   "cell_type": "code",
   "execution_count": 42,
   "id": "214e7353-4ebc-4042-b47d-63b7d6e8333a",
   "metadata": {},
   "outputs": [
    {
     "name": "stdin",
     "output_type": "stream",
     "text": [
      "Enter the first number: 5\n",
      "Enter the second number: 6\n",
      "Enter the third number: 2\n"
     ]
    },
    {
     "name": "stdout",
     "output_type": "stream",
     "text": [
      "The largest is :6\n"
     ]
    }
   ],
   "source": [
    "# Exercise 4: Finding the largest among three numbers\n",
    "num1 = int(input(\"Enter the first number:\"))\n",
    "num2 = int(input(\"Enter the second number:\"))\n",
    "num3 = int(input(\"Enter the third number:\"))\n",
    "if (num1>num2) and (num1>num3):\n",
    "    print(f'The largest number is:{num1}')\n",
    "elif (num2>num1) and (num2>num3):\n",
    "    print(f'The largest is :{num2}')\n",
    "else :\n",
    "    print(\"The largest number is:\",num3)\n",
    "    \n"
   ]
  },
  {
   "cell_type": "code",
   "execution_count": 46,
   "id": "54bd4ddb-4b32-403c-a457-73ee510f9ef3",
   "metadata": {},
   "outputs": [
    {
     "name": "stdin",
     "output_type": "stream",
     "text": [
      "Enter the first number: 23\n",
      "Enter the second number: 12\n",
      "Enter the third number: 9\n"
     ]
    },
    {
     "name": "stdout",
     "output_type": "stream",
     "text": [
      "the largest is 23\n"
     ]
    }
   ],
   "source": [
    "# largest using max function\n",
    "num1 = int(input(\"Enter the first number:\"))\n",
    "num2 = int(input(\"Enter the second number:\"))\n",
    "num3 = int(input(\"Enter the third number:\"))\n",
    "largest= max(num1,num2,num3)\n",
    "print(f\"the largest is {largest}\")\n",
    "\n"
   ]
  },
  {
   "cell_type": "code",
   "execution_count": 48,
   "id": "3a7e7b2c-0425-4176-8780-5d6fea93fa4c",
   "metadata": {},
   "outputs": [
    {
     "name": "stdin",
     "output_type": "stream",
     "text": [
      "Enter a number:  5\n"
     ]
    },
    {
     "name": "stdout",
     "output_type": "stream",
     "text": [
      "Factorial of 5 is 120\n"
     ]
    }
   ],
   "source": [
    "# Exercise 5: Factorial Calculator\n",
    "def calculate_factorial():\n",
    "    num = int(input(\"Enter a number: \"))\n",
    "    factorial = 1\n",
    "    for i in range(1, num + 1):\n",
    "        factorial *= i\n",
    "    print(f\"Factorial of {num} is {factorial}\")\n",
    "\n",
    "calculate_factorial()"
   ]
  },
  {
   "cell_type": "code",
   "execution_count": 50,
   "id": "0b05429a-fde7-4967-bdc3-bd0c93506b11",
   "metadata": {},
   "outputs": [
    {
     "name": "stdin",
     "output_type": "stream",
     "text": [
      "Enter a number:  10\n"
     ]
    },
    {
     "name": "stdout",
     "output_type": "stream",
     "text": [
      "Factorial of 10 is 3628800\n"
     ]
    }
   ],
   "source": [
    "calculate_factorial()\n"
   ]
  },
  {
   "cell_type": "code",
   "execution_count": 55,
   "id": "81a6b551-3674-45f5-a928-02988697834c",
   "metadata": {},
   "outputs": [],
   "source": [
    "# Exercise 6: Reverse Number\n",
    "def reverse_number():\n",
    "    num = int(input(\"Enter a number: \"))\n",
    "    reversed_num = 0\n",
    "    \n",
    "    while num > 0:\n",
    "        digit = num % 10\n",
    "        reversed_num = (reversed_num * 10) + digit\n",
    "        num = num // 10\n",
    "    \n",
    "    print(f\"Reversed number is: {reversed_num}\")\n",
    "    "
   ]
  },
  {
   "cell_type": "code",
   "execution_count": 57,
   "id": "41d1e3b0-81d1-40ec-bfca-857cb3699c82",
   "metadata": {},
   "outputs": [
    {
     "name": "stdin",
     "output_type": "stream",
     "text": [
      "Enter a number:  345\n"
     ]
    },
    {
     "name": "stdout",
     "output_type": "stream",
     "text": [
      "Reversed number is: 543\n"
     ]
    }
   ],
   "source": [
    "reverse_number()"
   ]
  },
  {
   "cell_type": "code",
   "execution_count": 59,
   "id": "0f8303fa-e31c-4199-b192-09f815bd3442",
   "metadata": {},
   "outputs": [],
   "source": [
    "# Exercise 7: Multiples of a Number\n",
    "\n",
    "def print_multiples():\n",
    "    num = int(input(\"Enter a number: \"))\n",
    "    limit = int(input(\"Enter limit: \"))\n",
    "    \n",
    "    for i in range(1, limit + 1):\n",
    "        print(f\"{num} x {i} = {num * i}\")"
   ]
  },
  {
   "cell_type": "code",
   "execution_count": 61,
   "id": "5ebc71d5-0afb-4f25-b716-b627785dec53",
   "metadata": {},
   "outputs": [
    {
     "name": "stdin",
     "output_type": "stream",
     "text": [
      "Enter a number:  3\n",
      "Enter limit:  5\n"
     ]
    },
    {
     "name": "stdout",
     "output_type": "stream",
     "text": [
      "3 x 1 = 3\n",
      "3 x 2 = 6\n",
      "3 x 3 = 9\n",
      "3 x 4 = 12\n",
      "3 x 5 = 15\n"
     ]
    }
   ],
   "source": [
    "print_multiples()"
   ]
  },
  {
   "cell_type": "code",
   "execution_count": 63,
   "id": "bc3307f1-ad9b-4b79-9c4d-7315ede6536c",
   "metadata": {},
   "outputs": [],
   "source": [
    "# Exercise 8: Break on 'done'\n",
    "def break_on_done():\n",
    "    while True:\n",
    "        value = input(\": \")\n",
    "        print(value)\n",
    "        if value.lower() == 'done':\n",
    "            break"
   ]
  },
  {
   "cell_type": "code",
   "execution_count": 65,
   "id": "b187d340-6b88-41dd-ab40-c3fa47ca206b",
   "metadata": {},
   "outputs": [
    {
     "name": "stdin",
     "output_type": "stream",
     "text": [
      ":  hai\n"
     ]
    },
    {
     "name": "stdout",
     "output_type": "stream",
     "text": [
      "hai\n"
     ]
    },
    {
     "name": "stdin",
     "output_type": "stream",
     "text": [
      ":  finished\n"
     ]
    },
    {
     "name": "stdout",
     "output_type": "stream",
     "text": [
      "finished\n"
     ]
    },
    {
     "name": "stdin",
     "output_type": "stream",
     "text": [
      ":  my assignment 3\n"
     ]
    },
    {
     "name": "stdout",
     "output_type": "stream",
     "text": [
      "my assignment 3\n"
     ]
    },
    {
     "name": "stdin",
     "output_type": "stream",
     "text": [
      ":  done\n"
     ]
    },
    {
     "name": "stdout",
     "output_type": "stream",
     "text": [
      "done\n"
     ]
    }
   ],
   "source": [
    "break_on_done()"
   ]
  },
  {
   "cell_type": "code",
   "execution_count": 67,
   "id": "ef27609f-76af-45f3-ba7f-1903fe0d7750",
   "metadata": {},
   "outputs": [
    {
     "name": "stdout",
     "output_type": "stream",
     "text": [
      "1\n",
      "2\n",
      "3\n",
      "4\n",
      "5\n",
      "6\n",
      "7\n",
      "8\n",
      "9\n",
      "10\n"
     ]
    }
   ],
   "source": [
    "# Excercise 9,program to print numbers from 1 to 10\n",
    "for i in range(1, 11):  # Loop from 1 to 10\n",
    "    print(i)"
   ]
  },
  {
   "cell_type": "code",
   "execution_count": 69,
   "id": "bbfeca8e-5e08-49ee-a04a-e130fafaa2a5",
   "metadata": {},
   "outputs": [],
   "source": [
    "def fizz_buzz():\n",
    "    for i in range(1, 11):\n",
    "        if i % 3 == 0 and i % 5 == 0:\n",
    "            print(\"FizzBuzz\")\n",
    "        elif i % 3 == 0:\n",
    "            print(\"Fizz\")\n",
    "        elif i % 5 == 0:\n",
    "            print(\"Buzz\")\n",
    "        else:\n",
    "            print(i)"
   ]
  },
  {
   "cell_type": "code",
   "execution_count": 71,
   "id": "3a0da462-cbf5-4665-83f4-85c74969d44c",
   "metadata": {},
   "outputs": [
    {
     "name": "stdout",
     "output_type": "stream",
     "text": [
      "1\n",
      "2\n",
      "Fizz\n",
      "4\n",
      "Buzz\n",
      "Fizz\n",
      "7\n",
      "8\n",
      "Fizz\n",
      "Buzz\n"
     ]
    }
   ],
   "source": [
    "fizz_buzz()"
   ]
  },
  {
   "cell_type": "code",
   "execution_count": 73,
   "id": "df1965ea-f088-4db5-afd4-bfb1349e6399",
   "metadata": {},
   "outputs": [],
   "source": [
    "# Exercise 10: Number Pattern\n",
    "\"\"\"\n",
    "5 4 3 2 1\n",
    "4 3 2 1\n",
    "3 2 1\n",
    "2 1\n",
    "1\n",
    "\"\"\"\n",
    "def print_pattern():\n",
    "    for i in range(5, 0, -1):\n",
    "        for j in range(i, 0, -1):\n",
    "            print(j, end=\" \")\n",
    "        print()"
   ]
  },
  {
   "cell_type": "code",
   "execution_count": 75,
   "id": "2120f9a3-7954-4579-a2e3-f6e3d1d73f6f",
   "metadata": {},
   "outputs": [
    {
     "name": "stdout",
     "output_type": "stream",
     "text": [
      "5 4 3 2 1 \n",
      "4 3 2 1 \n",
      "3 2 1 \n",
      "2 1 \n",
      "1 \n"
     ]
    }
   ],
   "source": [
    "print_pattern()"
   ]
  },
  {
   "cell_type": "code",
   "execution_count": null,
   "id": "06972913-4136-4fb2-8bb5-b71139ac553a",
   "metadata": {},
   "outputs": [],
   "source": []
  }
 ],
 "metadata": {
  "kernelspec": {
   "display_name": "Python [conda env:base] *",
   "language": "python",
   "name": "conda-base-py"
  },
  "language_info": {
   "codemirror_mode": {
    "name": "ipython",
    "version": 3
   },
   "file_extension": ".py",
   "mimetype": "text/x-python",
   "name": "python",
   "nbconvert_exporter": "python",
   "pygments_lexer": "ipython3",
   "version": "3.12.7"
  }
 },
 "nbformat": 4,
 "nbformat_minor": 5
}
