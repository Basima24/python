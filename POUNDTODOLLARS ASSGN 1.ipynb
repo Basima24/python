{
 "cells": [
  {
   "cell_type": "code",
   "execution_count": 3,
   "id": "6d9713b4-0dd3-4e10-b43a-ad3156b5a61c",
   "metadata": {},
   "outputs": [
    {
     "name": "stdout",
     "output_type": "stream",
     "text": [
      "Basima\n",
      "MEK24\n",
      "myhadi.basim@gmail.com\n"
     ]
    }
   ],
   "source": [
    "# my first python program file \n",
    "# Ex:1\n",
    "\n",
    "print(\"Basima\")\n",
    "print(\"MEK24\")\n",
    "print('myhadi.basim@gmail.com')\n",
    "\n"
   ]
  },
  {
   "cell_type": "code",
   "execution_count": 5,
   "id": "f19e2911-0427-4d26-a5ed-16da30948cf9",
   "metadata": {},
   "outputs": [
    {
     "name": "stdout",
     "output_type": "stream",
     "text": [
      "Basima\n",
      "MEK24\n",
      "myhadi.basima@gmail.com\n"
     ]
    }
   ],
   "source": [
    "# Ex:2\n",
    "print(\"Basima\\nMEK24\\nmyhadi.basima@gmail.com\")"
   ]
  },
  {
   "cell_type": "code",
   "execution_count": 7,
   "id": "c9ab98a8-7bb0-4bf4-b3b5-ad79a82c3df2",
   "metadata": {},
   "outputs": [
    {
     "name": "stdout",
     "output_type": "stream",
     "text": [
      "14+7= 21\n",
      "14*7= 98\n",
      "14-7= 7\n",
      "14/7= 2.0\n"
     ]
    }
   ],
   "source": [
    "# Ex:3\n",
    "a=14\n",
    "b=7\n",
    "print('14+7=',a+b)\n",
    "print('14*7=',a*b)\n",
    "print('14-7=',a-b)\n",
    "print('14/7=',a/b)"
   ]
  },
  {
   "cell_type": "code",
   "execution_count": 9,
   "id": "4897b83f-da3b-4c7e-8513-957bf91964eb",
   "metadata": {},
   "outputs": [
    {
     "name": "stdout",
     "output_type": "stream",
     "text": [
      "1\n",
      "2\n",
      "3\n",
      "4\n",
      "5\n"
     ]
    }
   ],
   "source": [
    "#Ex: 4\n",
    "for i in range (1,6):\n",
    "    print(i)\n",
    "    "
   ]
  },
  {
   "cell_type": "code",
   "execution_count": 11,
   "id": "d350a162-f335-416d-8505-b74800d8efa8",
   "metadata": {},
   "outputs": [
    {
     "name": "stdout",
     "output_type": "stream",
     "text": [
      "\"SDK\" stands for \"Software Development Kit\", whereas \"IDE\" stands for \"Integrated Development Environment\".\n"
     ]
    }
   ],
   "source": [
    "# Ex:5\n",
    "print('\"SDK\" stands for \"Software Development Kit\", whereas \"IDE\" stands for \"Integrated Development Environment\".')"
   ]
  },
  {
   "cell_type": "code",
   "execution_count": 13,
   "id": "e6f3df07-2a5c-4f67-9d71-1202938a73d9",
   "metadata": {},
   "outputs": [
    {
     "name": "stdout",
     "output_type": "stream",
     "text": [
      "python is an \"awesome\" language.\n"
     ]
    }
   ],
   "source": [
    "# Ex:6\n",
    "print(\"python is an \\\"awesome\\\" language.\")"
   ]
  },
  {
   "cell_type": "code",
   "execution_count": 15,
   "id": "c0ecad8a-8cf6-426f-9254-4666eec18e82",
   "metadata": {},
   "outputs": [
    {
     "name": "stdout",
     "output_type": "stream",
     "text": [
      "python\n",
      "\t2023\n",
      "I'm from Entri\n"
     ]
    }
   ],
   "source": [
    "print(\"python\\n\\t2023\")\n",
    "print('I\\'m from Entri.\\b')\n"
   ]
  },
  {
   "cell_type": "code",
   "execution_count": 17,
   "id": "5ae0a75f-b510-434e-80a9-c3105624b4a6",
   "metadata": {},
   "outputs": [
    {
     "name": "stdout",
     "output_type": "stream",
     "text": [
      "5\n"
     ]
    }
   ],
   "source": [
    "print(\"\\65\")\n"
   ]
  },
  {
   "cell_type": "code",
   "execution_count": 19,
   "id": "8ad88783-a34b-49c7-a5a4-328c3b7f4d6b",
   "metadata": {},
   "outputs": [
    {
     "name": "stdout",
     "output_type": "stream",
     "text": [
      "e\n"
     ]
    }
   ],
   "source": [
    "print(\"\\x65\")"
   ]
  },
  {
   "cell_type": "code",
   "execution_count": 21,
   "id": "b9b2ca7a-af7f-4bd4-bd3a-80c13b6e3416",
   "metadata": {},
   "outputs": [
    {
     "name": "stdout",
     "output_type": "stream",
     "text": [
      "Entri\n",
      "2023\n"
     ]
    }
   ],
   "source": [
    "print(\"Entri\", \"2023\", sep=\"\\n\")"
   ]
  },
  {
   "cell_type": "code",
   "execution_count": 23,
   "id": "ebaaacf6-b8d9-4012-8315-23c83a820066",
   "metadata": {},
   "outputs": [
    {
     "name": "stdout",
     "output_type": "stream",
     "text": [
      "Entr2023\n"
     ]
    }
   ],
   "source": [
    "print(\"Entri\", \"2023\", sep=\"\\b\")\n"
   ]
  },
  {
   "cell_type": "code",
   "execution_count": 25,
   "id": "9946d74c-2f92-48f7-a913-19b376ae2cbe",
   "metadata": {},
   "outputs": [
    {
     "name": "stdout",
     "output_type": "stream",
     "text": [
      "Entri*20"
     ]
    }
   ],
   "source": [
    "print(\"Entri\", \"2023\", sep=\"*\",end=\"\\b\\b\\b\\b\")"
   ]
  },
  {
   "cell_type": "code",
   "execution_count": 27,
   "id": "c6b921cb-3f8e-4a69-b4d9-3c62656e2c4c",
   "metadata": {},
   "outputs": [
    {
     "name": "stdout",
     "output_type": "stream",
     "text": [
      "<class 'int'>\n",
      "<class 'str'>\n",
      "<class 'float'>\n"
     ]
    }
   ],
   "source": [
    "#Ex: 7\n",
    "num = 23\n",
    "textnum = \"57\"\n",
    "decimal = 98.3\n",
    "print(type(num))\n",
    "print(type(textnum))\n",
    "print(type(decimal))\n"
   ]
  },
  {
   "cell_type": "code",
   "execution_count": 29,
   "id": "0d114435-e45b-4414-8e92-4450cab2824a",
   "metadata": {},
   "outputs": [
    {
     "name": "stdout",
     "output_type": "stream",
     "text": [
      "type of num: <class 'int'>\n",
      "type of textnum: <class 'str'>\n",
      "type of decimal: <class 'float'>\n"
     ]
    }
   ],
   "source": [
    "print(f'type of num: {type(num)}')\n",
    "print(f'type of textnum: {type(textnum)}')\n",
    "print(f'type of decimal: {type(decimal)}')\n"
   ]
  },
  {
   "cell_type": "code",
   "execution_count": 31,
   "id": "25440f07-da0f-4563-992b-0e313fb947ed",
   "metadata": {},
   "outputs": [
    {
     "name": "stdout",
     "output_type": "stream",
     "text": [
      "The sum of variables = 178.3\n"
     ]
    }
   ],
   "source": [
    "print(f\"The sum of variables = {num +int(textnum)+decimal}\")\n"
   ]
  },
  {
   "cell_type": "code",
   "execution_count": 33,
   "id": "cf684c3e-fcf8-4ebb-8bf2-a2ab35c5111f",
   "metadata": {},
   "outputs": [
    {
     "name": "stdout",
     "output_type": "stream",
     "text": [
      "There are 525600 minutes in a year\n",
      "This code calculates the total number of minutes in a year by multiplying:\n",
      "- Days in a year :365\n",
      "- Hours in a day :24\n",
      "- Minutes in an hour :60\n"
     ]
    }
   ],
   "source": [
    "# Ex :8\n",
    "\n",
    "days_in_year = 365\n",
    "hours_in_day = 24\n",
    "minutes_in_hour = 60\n",
    "\n",
    "total_minutes = days_in_year * hours_in_day * minutes_in_hour\n",
    "print(f\"There are {total_minutes} minutes in a year\")\n",
    "print(\"This code calculates the total number of minutes in a year by multiplying:\")\n",
    "print(f\"- Days in a year :{days_in_year}\")\n",
    "print(f\"- Hours in a day :{hours_in_day}\")\n",
    "print(f\"- Minutes in an hour :{minutes_in_hour}\")\n"
   ]
  },
  {
   "cell_type": "code",
   "execution_count": 35,
   "id": "ed692c93-86cd-454a-9a3f-08a5600b7d6a",
   "metadata": {},
   "outputs": [
    {
     "name": "stdin",
     "output_type": "stream",
     "text": [
      "Please Enter your name:  Maxwell\n"
     ]
    },
    {
     "name": "stdout",
     "output_type": "stream",
     "text": [
      "Hi Maxwell,Welcome to Python Programming:\n"
     ]
    }
   ],
   "source": [
    "#Ex :9\n",
    "username =input(\"Please Enter your name: \")\n",
    "print(f\"Hi {username},Welcome to Python Programming:\")\n"
   ]
  },
  {
   "cell_type": "code",
   "execution_count": 37,
   "id": "58d5b053-8cfe-43a8-a9e9-2f828ac5b8b9",
   "metadata": {},
   "outputs": [
    {
     "name": "stdin",
     "output_type": "stream",
     "text": [
      "Please enter amount in pounds:  50\n"
     ]
    },
    {
     "name": "stdout",
     "output_type": "stream",
     "text": [
      "£50.00 are $61.50\n"
     ]
    }
   ],
   "source": [
    "#Ex :10\n",
    "# 1 pound =1.23 USD \"todays rate\"\n",
    "pounds = float(input(\"Please enter amount in pounds: \"))\n",
    "dollars = pounds * 1.23\n",
    "print(f\"£{pounds:.2f} are ${dollars:.2f}\")"
   ]
  },
  {
   "cell_type": "code",
   "execution_count": null,
   "id": "c2c082fb-1f00-4a5e-9386-2d76f2608408",
   "metadata": {},
   "outputs": [],
   "source": []
  }
 ],
 "metadata": {
  "kernelspec": {
   "display_name": "Python [conda env:base] *",
   "language": "python",
   "name": "conda-base-py"
  },
  "language_info": {
   "codemirror_mode": {
    "name": "ipython",
    "version": 3
   },
   "file_extension": ".py",
   "mimetype": "text/x-python",
   "name": "python",
   "nbconvert_exporter": "python",
   "pygments_lexer": "ipython3",
   "version": "3.12.7"
  }
 },
 "nbformat": 4,
 "nbformat_minor": 5
}
