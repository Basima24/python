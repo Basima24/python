{
 "cells": [
  {
   "cell_type": "code",
   "execution_count": 1,
   "id": "7e0684a0-d5fc-4aaf-a483-67d12ca15597",
   "metadata": {},
   "outputs": [
    {
     "name": "stdout",
     "output_type": "stream",
     "text": [
      "Hello,welcome to python programming....\n",
      "\n"
     ]
    }
   ],
   "source": [
    "#Exercise 1: (score : 1) Write a Python program to read a file and display its contents\n",
    "file=open(\"C:\\\\Users\\\\USER\\\\Desktop\\\\byf files\\\\file1.txt\",'r')\n",
    "content=file.read()\n",
    "print(content)\n",
    "file.close()\n"
   ]
  },
  {
   "cell_type": "code",
   "execution_count": 3,
   "id": "3aab46aa-c759-445f-a85d-704fce22f154",
   "metadata": {},
   "outputs": [
    {
     "name": "stdout",
     "output_type": "stream",
     "text": [
      "the copied message is \n",
      "\n",
      "Hello,welcome to python programming....\n",
      "\n"
     ]
    }
   ],
   "source": [
    "# Exercise 2: (score : 1) Write a Python program to copy the contents of one file to another file\n",
    "\n",
    "with open(\"C:\\\\Users\\\\USER\\\\Desktop\\\\byf files\\\\file1.txt\",\"r\") as fileone:\n",
    "    with open(\"C:\\\\Users\\\\USER\\\\Desktop\\\\byf files\\\\file2.txt\",\"w\") as filetwo:\n",
    "        content=fileone.read()\n",
    "        filetwo.write(content)\n",
    "\n",
    "with open(\"C:\\\\Users\\\\USER\\\\Desktop\\\\byf files\\\\file2.txt\",\"r\") as filetwo:\n",
    "    message=filetwo.read()\n",
    "    print(\"the copied message is \\n\")\n",
    "    print(message)"
   ]
  },
  {
   "cell_type": "code",
   "execution_count": 5,
   "id": "298962f8-fdaf-4084-9af2-c51103e88102",
   "metadata": {},
   "outputs": [
    {
     "name": "stdout",
     "output_type": "stream",
     "text": [
      "the number of words is 4\n"
     ]
    }
   ],
   "source": [
    "# Exercise 3: (score : 2) Write a Python program to read the content of a file and count the total number of words in that file.\n",
    "with open(\"C:\\\\Users\\\\USER\\\\Desktop\\\\byf files\\\\file1.txt\",\"r\") as fileone:\n",
    "    content=fileone.read()\n",
    "    words=content.split()\n",
    "    count=len(words)\n",
    "    print(\"the number of words is\",count)\n",
    "    "
   ]
  },
  {
   "cell_type": "code",
   "execution_count": 9,
   "id": "054d1175-9fb1-487f-aad9-fbc11b2cae63",
   "metadata": {},
   "outputs": [
    {
     "name": "stdin",
     "output_type": "stream",
     "text": [
      "Please enter a number:  46\n"
     ]
    },
    {
     "name": "stdout",
     "output_type": "stream",
     "text": [
      "The converted number is: 46\n"
     ]
    }
   ],
   "source": [
    "# Exercise 4: (score : 1) Write a Python program that prompts the user to input a string and converts it to an integer.\n",
    "# Use try-except blocks to handle any exceptions that might occuruser_input = input(\"Please enter a number: \")\n",
    "user_input = input(\"Please enter a number: \")\n",
    "try:\n",
    "    number = int(user_input)\n",
    "    print(f\"The converted number is: {number}\")\n",
    "\n",
    "except ValueError:\n",
    "    print(\"Oops! That was not a valid number. Please enter an integer.\")"
   ]
  },
  {
   "cell_type": "code",
   "execution_count": 11,
   "id": "81debcfa-7eb6-47c0-b249-28cbfff373c4",
   "metadata": {},
   "outputs": [
    {
     "name": "stdin",
     "output_type": "stream",
     "text": [
      "Please enter a list of integers (separated by spaces):  58 9 12 245 78\n"
     ]
    },
    {
     "name": "stdout",
     "output_type": "stream",
     "text": [
      "The list of integers is: [58, 9, 12, 245, 78]\n"
     ]
    }
   ],
   "source": [
    "# Exercise 5: (score : 1) Write a Python program that prompts the user to input a list of integers and raises an exception if any \n",
    "# of the integers in the list are negative. \n",
    "\n",
    "user_input = input(\"Please enter a list of integers (separated by spaces): \")\n",
    "\n",
    "try:\n",
    "    integer_list = [int(x) for x in user_input.split()]\n",
    "\n",
    "    for num in integer_list:\n",
    "        if num < 0:\n",
    "            raise ValueError(\"Negative numbers are not allowed!\")\n",
    "\n",
    "    print(\"The list of integers is:\", integer_list)\n",
    "\n",
    "except ValueError as ve:\n",
    "    print(ve)"
   ]
  },
  {
   "cell_type": "code",
   "execution_count": 15,
   "id": "79fdd3e7-592e-446a-bf3f-9f56ab14371b",
   "metadata": {},
   "outputs": [
    {
     "name": "stdin",
     "output_type": "stream",
     "text": [
      "Please enter a list of integers (separated by spaces):  34 6 7 99 12 32 4 5\n"
     ]
    },
    {
     "name": "stdout",
     "output_type": "stream",
     "text": [
      "The average of the entered integers is: 24.875\n",
      "Program has finished running.\n"
     ]
    }
   ],
   "source": [
    "# Exercise 6: (score : 2) Write a Python program that prompts the user to input a list of integers and computes the average of those integers.\n",
    "# Use try-except blocks to handle any exceptions that might occur.\n",
    "# use the finally clause to print a message indicating that the program has finished running.\n",
    "# Function to compute the average\n",
    "def compute_average():\n",
    "    try:\n",
    "        user_input = input(\"Please enter a list of integers (separated by spaces): \")\n",
    "        integer_list = [int(x) for x in user_input.split()]\n",
    "\n",
    "        average = sum(integer_list) / len(integer_list)\n",
    "\n",
    "        print(f\"The average of the entered integers is: {average}\")\n",
    "\n",
    "    except ValueError as ve:\n",
    "        # Catch invalid input (non-integer values or empty list)\n",
    "        print(f\"Error: {ve}\")\n",
    "\n",
    "    except ZeroDivisionError:\n",
    "        # Handle the case where no integers are provided (if list length is zero)\n",
    "        print(\"Error: Cannot compute average of an empty list.\")\n",
    "\n",
    "    finally:\n",
    "        # Print a message indicating that the program has finished running\n",
    "        print(\"Program has finished running.\")\n",
    "\n",
    "# Call the function\n",
    "compute_average()\n"
   ]
  },
  {
   "cell_type": "code",
   "execution_count": 17,
   "id": "dcfb6fc8-2858-4aa6-839a-a27f2d5eb6d6",
   "metadata": {},
   "outputs": [
    {
     "name": "stdin",
     "output_type": "stream",
     "text": [
      "Please enter the filename to write to:  45 65 76 87 88 90 0 1  1 2 3\n"
     ]
    },
    {
     "name": "stdout",
     "output_type": "stream",
     "text": [
      "File '45 65 76 87 88 90 0 1  1 2 3' has been written successfully!\n",
      "Welcome! The file has been created and written.\n"
     ]
    }
   ],
   "source": [
    "#Exercise 7 : (score : 2) Write a Python program that prompts the user to input a filename and writes a string to that file. \n",
    "#Use try-except blocks to handle any exceptions that might occur and print a welcome message if there is no exception occurred.\n",
    "\n",
    "def write_to_file():\n",
    "    try:\n",
    "        filename = input(\"Please enter the filename to write to: \")\n",
    "        with open(filename, 'w') as file:\n",
    "            file.write(\"Hello, this is a string written to the file!\")\n",
    "            \n",
    "        print(f\"File '{filename}' has been written successfully!\")\n",
    "        print(\"Welcome! The file has been created and written.\")\n",
    "\n",
    "    except FileNotFoundError:\n",
    "        # Handle the case if the file is not found (in case of incorrect path)\n",
    "        print(\"Error: The specified file path is incorrect.\")\n",
    "\n",
    "    except IOError:\n",
    "        # Handle other I/O errors (permissions, file system issues, etc.)\n",
    "        print(\"Error: An I/O error occurred while writing to the file.\")\n",
    "\n",
    "    except Exception as e:\n",
    "        # Catch all other exceptions\n",
    "        print(f\"An unexpected error occurred: {e}\")\n",
    "\n",
    "# Call the function to run the program\n",
    "write_to_file()"
   ]
  },
  {
   "cell_type": "code",
   "execution_count": null,
   "id": "fe621a1f-4a7d-4727-abe4-a96531d7abe0",
   "metadata": {},
   "outputs": [],
   "source": []
  }
 ],
 "metadata": {
  "kernelspec": {
   "display_name": "Python [conda env:base] *",
   "language": "python",
   "name": "conda-base-py"
  },
  "language_info": {
   "codemirror_mode": {
    "name": "ipython",
    "version": 3
   },
   "file_extension": ".py",
   "mimetype": "text/x-python",
   "name": "python",
   "nbconvert_exporter": "python",
   "pygments_lexer": "ipython3",
   "version": "3.12.7"
  }
 },
 "nbformat": 4,
 "nbformat_minor": 5
}
