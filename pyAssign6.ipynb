{
 "cells": [
  {
   "cell_type": "code",
   "execution_count": 19,
   "id": "fe621a1f-4a7d-4727-abe4-a96531d7abe0",
   "metadata": {},
   "outputs": [
    {
     "name": "stdout",
     "output_type": "stream",
     "text": [
      "Course code CS101 \n",
      "Course name Introduction to Computer Science \n",
      "Credit hours 3, Required for Major: Required\n",
      "Course code Tech101 \n",
      "Course name Introduction to Technology \n",
      "Credit hours 3 , Elective Type: Technical\n"
     ]
    }
   ],
   "source": [
    "#Question 1: (5 Marks) Build a program to manage a university's course catalog. You want to define a base class Course that has the following properties: \n",
    "#course_code: a string representing the course code (e.g., \"CS101\") course_name: a string representing the course name (e.g., \"Introduction to \n",
    "#Computer Science\") credit_hours: an integer representing the credit hours for the course (e.g., 3) You also want to define two subclasses \n",
    "#CoreCourse and ElectiveCourse, which inherit from the Course class. CoreCourse should have an additional property required_for_major which \n",
    "#is a boolean representing whether the course is required for a particular major. ElectiveCourse \n",
    "#should have an additional property elective_type which is a string representing the type of elective (e.g., \"general\", \"technical\", \"liberal arts\").\n",
    "\n",
    "class Course:\n",
    "    def __init__(self,course_code,course_name,credit_hours):\n",
    "        self.course_code=course_code\n",
    "        self.course_name=course_name\n",
    "        self.credit_hours=credit_hours\n",
    "    def course_data(self):\n",
    "        return f\"Course code {self.course_code} \\nCourse name {self.course_name} \\nCredit hours {self.credit_hours}\"\n",
    "\n",
    "class CoreCourse(Course):\n",
    "    def __init__(self,course_code,course_name,credit_hours,required_for_major):\n",
    "        super().__init__(course_code,course_name,credit_hours)\n",
    "        self.required_for_major=required_for_major\n",
    "    def data(self):\n",
    "        required=\"Required\" if self.required_for_major else \"Not required\"\n",
    "        return f\"{super().course_data()}, Required for Major: {required}\"\n",
    "\n",
    "class ElectiveCourse(Course):\n",
    "    def __init__(self, course_code, course_name, credit_hours, elective_type):\n",
    "        super().__init__(course_code, course_name, credit_hours)\n",
    "        self.elective_type = elective_type\n",
    "    \n",
    "    def data1(self):\n",
    "        return f\"{super().course_data()} , Elective Type: {self.elective_type}\"\n",
    "\n",
    "# Create instances of CoreCourse and ElectiveCourse\n",
    "core_course = CoreCourse(course_code=\"CS101\", course_name=\"Introduction to Computer Science\", credit_hours=3, required_for_major=True)\n",
    "elective_course = ElectiveCourse(course_code=\"Tech101\", course_name=\"Introduction to Technology\", credit_hours=3, elective_type=\"Technical\")\n",
    "\n",
    "# Print course details\n",
    "print(core_course.data())\n",
    "print(elective_course.data1())\n"
   ]
  },
  {
   "cell_type": "code",
   "execution_count": 27,
   "id": "038c470f-9468-481d-9569-c0bdf057937e",
   "metadata": {},
   "outputs": [
    {
     "name": "stdout",
     "output_type": "stream",
     "text": [
      "Employee Name: John Doe\n",
      "Employee Salary: 50000\n"
     ]
    }
   ],
   "source": [
    "#Question 2: (5 Marks) Create a Python module named employee that contains a class Employee with attributes name, salary and methods \n",
    "#get_name() and get_salary(). \n",
    "#Write a program to use this module to create an object of the Employee class and display its name and salary.\n",
    "# Defining the 'employee' module within the notebook\n",
    "class Employee:\n",
    "    def __init__(self, name, salary):\n",
    "        self.name = name\n",
    "        self.salary = salary\n",
    "\n",
    "    def get_name(self):\n",
    "        return self.name\n",
    "\n",
    "    def get_salary(self):\n",
    "        return self.salary\n",
    "\n",
    "# Creating an instance of the Employee class\n",
    "employee_instance = Employee(name=\"John Doe\", salary=50000)\n",
    "\n",
    "# Displaying the name and salary\n",
    "name = employee_instance.get_name()\n",
    "salary = employee_instance.get_salary()\n",
    "\n",
    "print(f\"Employee Name: {name}\")\n",
    "print(f\"Employee Salary: {salary}\")\n",
    "\n"
   ]
  },
  {
   "cell_type": "code",
   "execution_count": null,
   "id": "cf6be99b-bd86-4764-bcbc-22d5b25fa0a7",
   "metadata": {},
   "outputs": [],
   "source": []
  }
 ],
 "metadata": {
  "kernelspec": {
   "display_name": "Python [conda env:base] *",
   "language": "python",
   "name": "conda-base-py"
  },
  "language_info": {
   "codemirror_mode": {
    "name": "ipython",
    "version": 3
   },
   "file_extension": ".py",
   "mimetype": "text/x-python",
   "name": "python",
   "nbconvert_exporter": "python",
   "pygments_lexer": "ipython3",
   "version": "3.12.7"
  }
 },
 "nbformat": 4,
 "nbformat_minor": 5
}
